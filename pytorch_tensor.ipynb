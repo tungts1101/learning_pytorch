{
  "nbformat": 4,
  "nbformat_minor": 0,
  "metadata": {
    "colab": {
      "name": "pytorch_tensor.ipynb",
      "provenance": [],
      "authorship_tag": "ABX9TyMJK9ytBAkCUOykjkWv+8Wb",
      "include_colab_link": true
    },
    "kernelspec": {
      "name": "python3",
      "display_name": "Python 3"
    },
    "language_info": {
      "name": "python"
    }
  },
  "cells": [
    {
      "cell_type": "markdown",
      "metadata": {
        "id": "view-in-github",
        "colab_type": "text"
      },
      "source": [
        "<a href=\"https://colab.research.google.com/github/tungts1101/learning_pytorch/blob/master/pytorch_tensor.ipynb\" target=\"_parent\"><img src=\"https://colab.research.google.com/assets/colab-badge.svg\" alt=\"Open In Colab\"/></a>"
      ]
    },
    {
      "cell_type": "code",
      "metadata": {
        "id": "obkQ-PD4H6bx"
      },
      "source": [
        "import torch\n",
        "import numpy as np"
      ],
      "execution_count": 1,
      "outputs": []
    },
    {
      "cell_type": "code",
      "metadata": {
        "colab": {
          "base_uri": "https://localhost:8080/"
        },
        "id": "YhZ7xD3eIMZl",
        "outputId": "1268a8f2-29c8-4aa1-c1e6-2a3caadd45db"
      },
      "source": [
        "data = [[1, 2], [3, 4]]\n",
        "x_data = torch.tensor(data)\n",
        "\n",
        "np_array = np.array(data)\n",
        "x_np = torch.from_numpy(np_array)\n",
        "\n",
        "x_ones = torch.ones_like(x_data)\n",
        "x_rand = torch.rand_like(x_data, dtype=torch.float)\n",
        "\n",
        "print(f\"Init Tensor: \\n {x_data} \\n\")\n",
        "print(f\"Ones Tensor: \\n {x_ones} \\n\")\n",
        "print(f\"Random Tensor: \\n {x_rand} \\n\")"
      ],
      "execution_count": 2,
      "outputs": [
        {
          "output_type": "stream",
          "text": [
            "Init Tensor: \n",
            " tensor([[1, 2],\n",
            "        [3, 4]]) \n",
            "\n",
            "Ones Tensor: \n",
            " tensor([[1, 1],\n",
            "        [1, 1]]) \n",
            "\n",
            "Random Tensor: \n",
            " tensor([[0.4366, 0.2580],\n",
            "        [0.7411, 0.5747]]) \n",
            "\n"
          ],
          "name": "stdout"
        }
      ]
    },
    {
      "cell_type": "code",
      "metadata": {
        "colab": {
          "base_uri": "https://localhost:8080/"
        },
        "id": "7QuD8DyLJPVX",
        "outputId": "65f958fd-654b-4448-c64a-420cd6b7a7b2"
      },
      "source": [
        "tensor = torch.rand(3, 4)\n",
        "print(f\"Shape: {tensor.shape}, Datatype: {tensor.dtype}, Device: {tensor.device}\")"
      ],
      "execution_count": 3,
      "outputs": [
        {
          "output_type": "stream",
          "text": [
            "Shape: torch.Size([3, 4]), Datatype: torch.float32, Device: cpu\n"
          ],
          "name": "stdout"
        }
      ]
    }
  ]
}