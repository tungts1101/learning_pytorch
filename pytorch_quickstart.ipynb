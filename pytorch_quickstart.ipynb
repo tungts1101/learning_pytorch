{
  "nbformat": 4,
  "nbformat_minor": 0,
  "metadata": {
    "colab": {
      "name": "pytorch_quickstart.ipynb",
      "provenance": [],
      "collapsed_sections": [],
      "authorship_tag": "ABX9TyNVVbxPGyzmuXwxPgA/16/R",
      "include_colab_link": true
    },
    "kernelspec": {
      "name": "python3",
      "display_name": "Python 3"
    },
    "language_info": {
      "name": "python"
    },
    "accelerator": "GPU"
  },
  "cells": [
    {
      "cell_type": "markdown",
      "metadata": {
        "id": "view-in-github",
        "colab_type": "text"
      },
      "source": [
        "<a href=\"https://colab.research.google.com/github/tungts1101/learning_pytorch/blob/master/pytorch_quickstart.ipynb\" target=\"_parent\"><img src=\"https://colab.research.google.com/assets/colab-badge.svg\" alt=\"Open In Colab\"/></a>"
      ]
    },
    {
      "cell_type": "code",
      "metadata": {
        "id": "BrpzAcYrAmzg"
      },
      "source": [
        "import torch\n",
        "from torch import nn\n",
        "from torch.utils.data import DataLoader\n",
        "from torchvision import datasets\n",
        "from torchvision.transforms import ToTensor, Lambda, Compose\n",
        "import matplotlib.pyplot as plt"
      ],
      "execution_count": 2,
      "outputs": []
    },
    {
      "cell_type": "code",
      "metadata": {
        "id": "EwCcy4hIBCu4"
      },
      "source": [
        "training_data = datasets.FashionMNIST(\n",
        "    root=\"data\",\n",
        "    train=True,\n",
        "    download=True,\n",
        "    transform=ToTensor(),\n",
        ")\n",
        "\n",
        "test_data = datasets.FashionMNIST(\n",
        "    root=\"data\",\n",
        "    train=False,\n",
        "    download=True,\n",
        "    transform=ToTensor(),\n",
        ")"
      ],
      "execution_count": 4,
      "outputs": []
    },
    {
      "cell_type": "code",
      "metadata": {
        "colab": {
          "base_uri": "https://localhost:8080/"
        },
        "id": "avf3dY1TBZZM",
        "outputId": "0c3d04b8-5c35-4d77-d851-e1bb39a76a70"
      },
      "source": [
        "batch_size = 64\n",
        "\n",
        "train_dataloader = DataLoader(training_data, batch_size=batch_size)\n",
        "test_dataloader = DataLoader(test_data, batch_size=batch_size)\n",
        "\n",
        "for X, y in test_dataloader:\n",
        "  print(\"Shape of X [N, C, H, W]: \", X.shape)\n",
        "  print(\"Shape of y: \", y.shape, y.dtype)\n",
        "  break"
      ],
      "execution_count": 5,
      "outputs": [
        {
          "output_type": "stream",
          "text": [
            "Shape of X [N, C, H, W]:  torch.Size([64, 1, 28, 28])\n",
            "Shape of y:  torch.Size([64]) torch.int64\n"
          ],
          "name": "stdout"
        }
      ]
    },
    {
      "cell_type": "code",
      "metadata": {
        "colab": {
          "base_uri": "https://localhost:8080/"
        },
        "id": "TilEQd3RB9eb",
        "outputId": "9b8ae9c7-338c-4807-e090-6a52b2a31e16"
      },
      "source": [
        "device = \"cuda\" if torch.cuda.is_available() else \"cpu\"\n",
        "print(\"Using {} device\".format(device))\n",
        "\n",
        "class NeuralNetwork(nn.Module):\n",
        "  def __init__(self):\n",
        "    super(NeuralNetwork, self).__init__()\n",
        "    self.flatten = nn.Flatten()\n",
        "    self.linear_relu_stack = nn.Sequential(\n",
        "        nn.Linear(28*28, 512),\n",
        "        nn.ReLU(),\n",
        "        nn.Linear(512, 512),\n",
        "        nn.ReLU(),\n",
        "        nn.Linear(512, 10),\n",
        "        nn.ReLU()\n",
        "    )\n",
        "\n",
        "  def forward(self, x):\n",
        "    x = self.flatten(x)\n",
        "    logits = self.linear_relu_stack(x)\n",
        "    return logits\n",
        "\n",
        "model = NeuralNetwork().to(device)\n",
        "print(model)"
      ],
      "execution_count": 6,
      "outputs": [
        {
          "output_type": "stream",
          "text": [
            "Using cuda device\n",
            "NeuralNetwork(\n",
            "  (flatten): Flatten(start_dim=1, end_dim=-1)\n",
            "  (linear_relu_stack): Sequential(\n",
            "    (0): Linear(in_features=784, out_features=512, bias=True)\n",
            "    (1): ReLU()\n",
            "    (2): Linear(in_features=512, out_features=512, bias=True)\n",
            "    (3): ReLU()\n",
            "    (4): Linear(in_features=512, out_features=10, bias=True)\n",
            "    (5): ReLU()\n",
            "  )\n",
            ")\n"
          ],
          "name": "stdout"
        }
      ]
    },
    {
      "cell_type": "code",
      "metadata": {
        "id": "kVo51CRaCuYQ"
      },
      "source": [
        "loss_fn = nn.CrossEntropyLoss()\n",
        "optimizer = torch.optim.SGD(model.parameters(), lr=1e-3)"
      ],
      "execution_count": 7,
      "outputs": []
    },
    {
      "cell_type": "code",
      "metadata": {
        "colab": {
          "base_uri": "https://localhost:8080/"
        },
        "id": "chcpwitsC1p2",
        "outputId": "e4c40fe1-039f-40b7-fcc3-6690da0624d9"
      },
      "source": [
        "def train(dataloader, model, loss_fn, optimizer):\n",
        "  size = len(dataloader.dataset)\n",
        "  for batch, (X, y) in enumerate(dataloader):\n",
        "    X, y = X.to(device), y.to(device)\n",
        "\n",
        "    # Compute prediction error\n",
        "    pred = model(X)\n",
        "    loss = loss_fn(pred, y)\n",
        "\n",
        "    # Backpropagation\n",
        "    optimizer.zero_grad()\n",
        "    loss.backward()\n",
        "    optimizer.step()\n",
        "\n",
        "    if batch % 100 == 0:\n",
        "      loss, current = loss.item(), batch * len(X)\n",
        "      print(f\"loss: {loss:>7f} [{current:>5d}/{size:>5d}]\")\n",
        "\n",
        "def test(dataloader, model):\n",
        "  size = len(dataloader.dataset)\n",
        "  model.eval()\n",
        "  test_loss, correct = 0, 0\n",
        "  with torch.no_grad():\n",
        "    for X, y in dataloader:\n",
        "      X, y = X.to(device), y.to(device)\n",
        "      pred = model(X)\n",
        "      test_loss += loss_fn(pred, y).item()\n",
        "      correct += (pred.argmax(1) == y).type(torch.float).sum().item()\n",
        "  test_loss /= size\n",
        "  correct /= size\n",
        "  print(f\"Test Error: \\n Accuracy: {(100*correct):>0.1f}%, Avg loss: {test_loss:>8f} \\n\")\n",
        "\n",
        "epochs = 5\n",
        "for t in range(epochs):\n",
        "  print(f\"Epoch {t+1}\\n-------------------------------------\")\n",
        "  train(train_dataloader, model, loss_fn, optimizer)\n",
        "  test(test_dataloader, model)\n",
        "print(\"Done!\")"
      ],
      "execution_count": 9,
      "outputs": [
        {
          "output_type": "stream",
          "text": [
            "Epoch 1\n",
            "-------------------------------------\n",
            "loss: 2.303701 [    0/60000]\n",
            "loss: 2.296067 [ 6400/60000]\n",
            "loss: 2.286625 [12800/60000]\n",
            "loss: 2.284031 [19200/60000]\n",
            "loss: 2.271621 [25600/60000]\n",
            "loss: 2.270930 [32000/60000]\n",
            "loss: 2.269741 [38400/60000]\n",
            "loss: 2.253966 [44800/60000]\n",
            "loss: 2.271797 [51200/60000]\n",
            "loss: 2.261934 [57600/60000]\n",
            "Test Error: \n",
            " Accuracy: 32.7%, Avg loss: 0.035229 \n",
            "\n",
            "Epoch 2\n",
            "-------------------------------------\n",
            "loss: 2.257278 [    0/60000]\n",
            "loss: 2.235742 [ 6400/60000]\n",
            "loss: 2.203398 [12800/60000]\n",
            "loss: 2.211645 [19200/60000]\n",
            "loss: 2.185294 [25600/60000]\n",
            "loss: 2.200397 [32000/60000]\n",
            "loss: 2.200999 [38400/60000]\n",
            "loss: 2.169271 [44800/60000]\n",
            "loss: 2.205373 [51200/60000]\n",
            "loss: 2.192724 [57600/60000]\n",
            "Test Error: \n",
            " Accuracy: 33.7%, Avg loss: 0.033742 \n",
            "\n",
            "Epoch 3\n",
            "-------------------------------------\n",
            "loss: 2.173392 [    0/60000]\n",
            "loss: 2.130363 [ 6400/60000]\n",
            "loss: 2.064022 [12800/60000]\n",
            "loss: 2.097184 [19200/60000]\n",
            "loss: 2.043328 [25600/60000]\n",
            "loss: 2.090048 [32000/60000]\n",
            "loss: 2.092791 [38400/60000]\n",
            "loss: 2.043319 [44800/60000]\n",
            "loss: 2.110604 [51200/60000]\n",
            "loss: 2.095702 [57600/60000]\n",
            "Test Error: \n",
            " Accuracy: 36.1%, Avg loss: 0.031648 \n",
            "\n",
            "Epoch 4\n",
            "-------------------------------------\n",
            "loss: 2.060142 [    0/60000]\n",
            "loss: 1.990840 [ 6400/60000]\n",
            "loss: 1.883806 [12800/60000]\n",
            "loss: 1.950020 [19200/60000]\n",
            "loss: 1.880993 [25600/60000]\n",
            "loss: 1.971831 [32000/60000]\n",
            "loss: 1.966720 [38400/60000]\n",
            "loss: 1.903756 [44800/60000]\n",
            "loss: 1.986192 [51200/60000]\n",
            "loss: 1.999520 [57600/60000]\n",
            "Test Error: \n",
            " Accuracy: 40.4%, Avg loss: 0.029248 \n",
            "\n",
            "Epoch 5\n",
            "-------------------------------------\n",
            "loss: 1.913682 [    0/60000]\n",
            "loss: 1.822515 [ 6400/60000]\n",
            "loss: 1.706208 [12800/60000]\n",
            "loss: 1.823421 [19200/60000]\n",
            "loss: 1.660680 [25600/60000]\n",
            "loss: 1.849215 [32000/60000]\n",
            "loss: 1.821594 [38400/60000]\n",
            "loss: 1.765655 [44800/60000]\n",
            "loss: 1.852716 [51200/60000]\n",
            "loss: 1.923007 [57600/60000]\n",
            "Test Error: \n",
            " Accuracy: 49.7%, Avg loss: 0.027151 \n",
            "\n",
            "Done!\n"
          ],
          "name": "stdout"
        }
      ]
    },
    {
      "cell_type": "code",
      "metadata": {
        "colab": {
          "base_uri": "https://localhost:8080/"
        },
        "id": "5N9368uQFKym",
        "outputId": "b45bb963-f6c2-4186-9570-f574a844a069"
      },
      "source": [
        "torch.save(model.state_dict(), \"model.pth\")\n",
        "print(\"Save PyTorch Model State to model.pth\")"
      ],
      "execution_count": 10,
      "outputs": [
        {
          "output_type": "stream",
          "text": [
            "Save PyTorch Model State to model.pth\n"
          ],
          "name": "stdout"
        }
      ]
    },
    {
      "cell_type": "code",
      "metadata": {
        "colab": {
          "base_uri": "https://localhost:8080/"
        },
        "id": "Zrt-hfQQFU00",
        "outputId": "b33c472d-057d-4ecf-ef91-679694911160"
      },
      "source": [
        "model = NeuralNetwork()\n",
        "model.load_state_dict(torch.load(\"model.pth\"))"
      ],
      "execution_count": 11,
      "outputs": [
        {
          "output_type": "execute_result",
          "data": {
            "text/plain": [
              "<All keys matched successfully>"
            ]
          },
          "metadata": {
            "tags": []
          },
          "execution_count": 11
        }
      ]
    },
    {
      "cell_type": "code",
      "metadata": {
        "colab": {
          "base_uri": "https://localhost:8080/"
        },
        "id": "02BhYCSaFZvL",
        "outputId": "c8e4798b-bc9d-4ddf-d6e2-5d3e1954b280"
      },
      "source": [
        "classes = [\n",
        "  \"T-shirt/top\",\n",
        "  \"Trouser\",\n",
        "  \"Pullover\",\n",
        "  \"Dress\",\n",
        "  \"Coat\",\n",
        "  \"Sandal\",\n",
        "  \"Shirt\",\n",
        "  \"Sneaker\",\n",
        "  \"Bag\",\n",
        "  \"Ankle boot\"\n",
        "]\n",
        "\n",
        "model.eval()\n",
        "x, y = test_data[0][0], test_data[0][1]\n",
        "with torch.no_grad():\n",
        "  pred = model(x)\n",
        "  predicted, actual = classes[pred[0].argmax(0)], classes[y]\n",
        "  print(f'Predicted: \"{predicted}\", Actual: \"{actual}\"')"
      ],
      "execution_count": 13,
      "outputs": [
        {
          "output_type": "stream",
          "text": [
            "Predicted: \"Ankle boot\", Actual: \"Ankle boot\"\n"
          ],
          "name": "stdout"
        }
      ]
    }
  ]
}